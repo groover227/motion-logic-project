{
 "cells": [
  {
   "cell_type": "markdown",
   "metadata": {},
   "source": [
    "### Importing libraries"
   ]
  },
  {
   "cell_type": "code",
   "execution_count": 74,
   "metadata": {},
   "outputs": [],
   "source": [
    "import pandas as pd\n",
    "import json\n",
    "import geopandas as gpd\n",
    "from shapely.geometry import Point\n",
    "import matplotlib.pyplot as plt\n",
    "%matplotlib inline"
   ]
  },
  {
   "cell_type": "markdown",
   "metadata": {},
   "source": [
    "#### BK data"
   ]
  },
  {
   "cell_type": "code",
   "execution_count": 26,
   "metadata": {},
   "outputs": [
    {
     "name": "stdout",
     "output_type": "stream",
     "text": [
      "752\n"
     ]
    },
    {
     "data": {
      "text/html": [
       "<div>\n",
       "<style scoped>\n",
       "    .dataframe tbody tr th:only-of-type {\n",
       "        vertical-align: middle;\n",
       "    }\n",
       "\n",
       "    .dataframe tbody tr th {\n",
       "        vertical-align: top;\n",
       "    }\n",
       "\n",
       "    .dataframe thead th {\n",
       "        text-align: right;\n",
       "    }\n",
       "</style>\n",
       "<table border=\"1\" class=\"dataframe\">\n",
       "  <thead>\n",
       "    <tr style=\"text-align: right;\">\n",
       "      <th></th>\n",
       "      <th>latitude</th>\n",
       "      <th>longitude</th>\n",
       "    </tr>\n",
       "  </thead>\n",
       "  <tbody>\n",
       "    <tr>\n",
       "      <th>0</th>\n",
       "      <td>50.632401</td>\n",
       "      <td>36.571400</td>\n",
       "    </tr>\n",
       "    <tr>\n",
       "      <th>1</th>\n",
       "      <td>53.378700</td>\n",
       "      <td>58.981602</td>\n",
       "    </tr>\n",
       "    <tr>\n",
       "      <th>2</th>\n",
       "      <td>55.790255</td>\n",
       "      <td>37.679944</td>\n",
       "    </tr>\n",
       "    <tr>\n",
       "      <th>3</th>\n",
       "      <td>55.756184</td>\n",
       "      <td>37.615438</td>\n",
       "    </tr>\n",
       "    <tr>\n",
       "      <th>4</th>\n",
       "      <td>55.770393</td>\n",
       "      <td>37.620663</td>\n",
       "    </tr>\n",
       "  </tbody>\n",
       "</table>\n",
       "</div>"
      ],
      "text/plain": [
       "    latitude  longitude\n",
       "0  50.632401  36.571400\n",
       "1  53.378700  58.981602\n",
       "2  55.790255  37.679944\n",
       "3  55.756184  37.615438\n",
       "4  55.770393  37.620663"
      ]
     },
     "execution_count": 26,
     "metadata": {},
     "output_type": "execute_result"
    }
   ],
   "source": [
    "bk_data = pd.read_json('BK_locations.json')\n",
    "bk_data.drop(['storeId', 'closed', 'premium'], inplace=True, axis=1)\n",
    "print(len(bk_data))\n",
    "bk_data.head()"
   ]
  },
  {
   "cell_type": "code",
   "execution_count": 34,
   "metadata": {},
   "outputs": [
    {
     "data": {
      "text/plain": [
       "latitude     float64\n",
       "longitude    float64\n",
       "dtype: object"
      ]
     },
     "execution_count": 34,
     "metadata": {},
     "output_type": "execute_result"
    }
   ],
   "source": [
    "# Make sure that all data are numbers\n",
    "bk_data.dtypes"
   ]
  },
  {
   "cell_type": "markdown",
   "metadata": {},
   "source": [
    "#### Working with KFC data"
   ]
  },
  {
   "cell_type": "code",
   "execution_count": 6,
   "metadata": {},
   "outputs": [],
   "source": [
    "with open('KFC_locations_2.json', encoding='utf-8') as f:\n",
    "    data = json.load(f)"
   ]
  },
  {
   "cell_type": "code",
   "execution_count": 7,
   "metadata": {},
   "outputs": [],
   "source": [
    "stores = []\n",
    "for city in data['value']['cities']:\n",
    "    data_2 = json.dumps(city)\n",
    "    stores.append(data_2)"
   ]
  },
  {
   "cell_type": "code",
   "execution_count": 8,
   "metadata": {},
   "outputs": [
    {
     "data": {
      "text/plain": [
       "'{\"kfcCityId\": \"bc9b73b2-46de-48b2-bfae-36aa867beeb6\", \"externalIdentifiers\": {\"deliveryUrl\": \"https://trk.mail.ru/c/u7pej0\", \"deliveryUrlMobile\": \"https://trk.mail.ru/c/u7pej0\", \"maxMindGeoNameID\": null, \"oldSiteId\": \"11\"}, \"title\": {\"en\": \"Novosibirsk\", \"ru\": \"\\\\u041d\\\\u043e\\\\u0432\\\\u043e\\\\u0441\\\\u0438\\\\u0431\\\\u0438\\\\u0440\\\\u0441\\\\u043a\"}, \"timezone\": \"Asia/Novosibirsk\", \"utc\": \"+07:00\", \"country\": \"RU\", \"defaultStore\": {\"id\": \"74213285\", \"coordinates\": {\"type\": \"Feature\", \"geometry\": {\"type\": \"Point\", \"coordinates\": [55.041418, 82.912743]}, \"properties\": {\"name\": {\"en\": \"KFC Lepestok Novosibirsk\", \"ru\": \"KFC \\\\u041b\\\\u0435\\\\u043f\\\\u0435\\\\u0441\\\\u0442\\\\u043e\\\\u043a \\\\u041d\\\\u043e\\\\u0432\\\\u043e\\\\u0441\\\\u0438\\\\u0431\\\\u0438\\\\u0440\\\\u0441\\\\u043a\"}}}}, \"delivery\": true, \"clickCollect\": true, \"allowClickCollect\": true}'"
      ]
     },
     "execution_count": 8,
     "metadata": {},
     "output_type": "execute_result"
    }
   ],
   "source": [
    "stores[0]"
   ]
  },
  {
   "cell_type": "markdown",
   "metadata": {},
   "source": [
    "#### Receiving coodrinates for each point"
   ]
  },
  {
   "cell_type": "code",
   "execution_count": 9,
   "metadata": {},
   "outputs": [],
   "source": [
    "coordinates = []\n",
    "for store in stores:\n",
    "    spl_word = '\"coordinates\": ['\n",
    "    res = store.partition(spl_word)[2] \n",
    "    split_string = res.split(\"]\", 1)\n",
    "    substring = split_string[0]\n",
    "    coordinates.append(substring)"
   ]
  },
  {
   "cell_type": "code",
   "execution_count": 13,
   "metadata": {},
   "outputs": [],
   "source": [
    "latitude_kfc = []\n",
    "for coord in coordinates:\n",
    "    if (coord.split(', ', 1)[-1] == ''):\n",
    "        latitude_kfc.append('null')\n",
    "    else:\n",
    "        latitude_kfc.append(coord.split(', ', 1)[0])\n",
    "    \n",
    "longitude_kfc = []\n",
    "for coord in coordinates:\n",
    "    if (coord.split(', ', 1)[-1] == ''):\n",
    "        longitude_kfc.append('null')\n",
    "    else:\n",
    "        longitude_kfc.append(coord.split(', ', 1)[-1])"
   ]
  },
  {
   "cell_type": "code",
   "execution_count": 15,
   "metadata": {},
   "outputs": [
    {
     "name": "stdout",
     "output_type": "stream",
     "text": [
      "195\n"
     ]
    },
    {
     "data": {
      "text/html": [
       "<div>\n",
       "<style scoped>\n",
       "    .dataframe tbody tr th:only-of-type {\n",
       "        vertical-align: middle;\n",
       "    }\n",
       "\n",
       "    .dataframe tbody tr th {\n",
       "        vertical-align: top;\n",
       "    }\n",
       "\n",
       "    .dataframe thead th {\n",
       "        text-align: right;\n",
       "    }\n",
       "</style>\n",
       "<table border=\"1\" class=\"dataframe\">\n",
       "  <thead>\n",
       "    <tr style=\"text-align: right;\">\n",
       "      <th></th>\n",
       "      <th>latitude</th>\n",
       "      <th>longitude</th>\n",
       "    </tr>\n",
       "  </thead>\n",
       "  <tbody>\n",
       "    <tr>\n",
       "      <th>0</th>\n",
       "      <td>55.041418</td>\n",
       "      <td>82.912743</td>\n",
       "    </tr>\n",
       "    <tr>\n",
       "      <th>1</th>\n",
       "      <td>55.616248</td>\n",
       "      <td>36.987898</td>\n",
       "    </tr>\n",
       "    <tr>\n",
       "      <th>2</th>\n",
       "      <td>47.291422</td>\n",
       "      <td>39.846595</td>\n",
       "    </tr>\n",
       "    <tr>\n",
       "      <th>3</th>\n",
       "      <td>56.321581</td>\n",
       "      <td>36.554344</td>\n",
       "    </tr>\n",
       "    <tr>\n",
       "      <th>4</th>\n",
       "      <td>0.0</td>\n",
       "      <td>0.0</td>\n",
       "    </tr>\n",
       "  </tbody>\n",
       "</table>\n",
       "</div>"
      ],
      "text/plain": [
       "    latitude  longitude\n",
       "0  55.041418  82.912743\n",
       "1  55.616248  36.987898\n",
       "2  47.291422  39.846595\n",
       "3  56.321581  36.554344\n",
       "4        0.0        0.0"
      ]
     },
     "execution_count": 15,
     "metadata": {},
     "output_type": "execute_result"
    }
   ],
   "source": [
    "kfc_data = pd.DataFrame({'latitude': latitude_kfc, 'longitude': longitude_kfc})\n",
    "print(len(kfc_data))\n",
    "kfc_data.head()"
   ]
  },
  {
   "cell_type": "code",
   "execution_count": 36,
   "metadata": {},
   "outputs": [
    {
     "data": {
      "text/plain": [
       "latitude     object\n",
       "longitude    object\n",
       "dtype: object"
      ]
     },
     "execution_count": 36,
     "metadata": {},
     "output_type": "execute_result"
    }
   ],
   "source": [
    "# Make sure that all data are numbers\n",
    "kfc_data.dtypes\n",
    "# No, it is not"
   ]
  },
  {
   "cell_type": "code",
   "execution_count": 46,
   "metadata": {},
   "outputs": [],
   "source": [
    "kfc_data = kfc_data[kfc_data.latitude != 'null']"
   ]
  },
  {
   "cell_type": "code",
   "execution_count": 47,
   "metadata": {},
   "outputs": [],
   "source": [
    "kfc_data.latitude = kfc_data['latitude'].astype(float)\n",
    "kfc_data['longitude'] = kfc_data['longitude'].astype(float)"
   ]
  },
  {
   "cell_type": "code",
   "execution_count": 95,
   "metadata": {},
   "outputs": [
    {
     "data": {
      "text/html": [
       "<div>\n",
       "<style scoped>\n",
       "    .dataframe tbody tr th:only-of-type {\n",
       "        vertical-align: middle;\n",
       "    }\n",
       "\n",
       "    .dataframe tbody tr th {\n",
       "        vertical-align: top;\n",
       "    }\n",
       "\n",
       "    .dataframe thead th {\n",
       "        text-align: right;\n",
       "    }\n",
       "</style>\n",
       "<table border=\"1\" class=\"dataframe\">\n",
       "  <thead>\n",
       "    <tr style=\"text-align: right;\">\n",
       "      <th></th>\n",
       "      <th>latitude</th>\n",
       "      <th>longitude</th>\n",
       "    </tr>\n",
       "  </thead>\n",
       "  <tbody>\n",
       "    <tr>\n",
       "      <th>0</th>\n",
       "      <td>55.041418</td>\n",
       "      <td>82.912743</td>\n",
       "    </tr>\n",
       "    <tr>\n",
       "      <th>1</th>\n",
       "      <td>55.616248</td>\n",
       "      <td>36.987898</td>\n",
       "    </tr>\n",
       "    <tr>\n",
       "      <th>2</th>\n",
       "      <td>47.291422</td>\n",
       "      <td>39.846595</td>\n",
       "    </tr>\n",
       "    <tr>\n",
       "      <th>3</th>\n",
       "      <td>56.321581</td>\n",
       "      <td>36.554344</td>\n",
       "    </tr>\n",
       "    <tr>\n",
       "      <th>4</th>\n",
       "      <td>0.000000</td>\n",
       "      <td>0.000000</td>\n",
       "    </tr>\n",
       "  </tbody>\n",
       "</table>\n",
       "</div>"
      ],
      "text/plain": [
       "    latitude  longitude\n",
       "0  55.041418  82.912743\n",
       "1  55.616248  36.987898\n",
       "2  47.291422  39.846595\n",
       "3  56.321581  36.554344\n",
       "4   0.000000   0.000000"
      ]
     },
     "execution_count": 95,
     "metadata": {},
     "output_type": "execute_result"
    }
   ],
   "source": [
    "kfc_data.head()"
   ]
  },
  {
   "cell_type": "markdown",
   "metadata": {},
   "source": [
    "#### Create shapely Points from lat/long"
   ]
  },
  {
   "cell_type": "code",
   "execution_count": 27,
   "metadata": {},
   "outputs": [
    {
     "data": {
      "text/html": [
       "<div>\n",
       "<style scoped>\n",
       "    .dataframe tbody tr th:only-of-type {\n",
       "        vertical-align: middle;\n",
       "    }\n",
       "\n",
       "    .dataframe tbody tr th {\n",
       "        vertical-align: top;\n",
       "    }\n",
       "\n",
       "    .dataframe thead th {\n",
       "        text-align: right;\n",
       "    }\n",
       "</style>\n",
       "<table border=\"1\" class=\"dataframe\">\n",
       "  <thead>\n",
       "    <tr style=\"text-align: right;\">\n",
       "      <th></th>\n",
       "      <th>latitude</th>\n",
       "      <th>longitude</th>\n",
       "    </tr>\n",
       "  </thead>\n",
       "  <tbody>\n",
       "    <tr>\n",
       "      <th>0</th>\n",
       "      <td>50.632401</td>\n",
       "      <td>36.571400</td>\n",
       "    </tr>\n",
       "    <tr>\n",
       "      <th>1</th>\n",
       "      <td>53.378700</td>\n",
       "      <td>58.981602</td>\n",
       "    </tr>\n",
       "    <tr>\n",
       "      <th>2</th>\n",
       "      <td>55.790255</td>\n",
       "      <td>37.679944</td>\n",
       "    </tr>\n",
       "    <tr>\n",
       "      <th>3</th>\n",
       "      <td>55.756184</td>\n",
       "      <td>37.615438</td>\n",
       "    </tr>\n",
       "    <tr>\n",
       "      <th>4</th>\n",
       "      <td>55.770393</td>\n",
       "      <td>37.620663</td>\n",
       "    </tr>\n",
       "    <tr>\n",
       "      <th>...</th>\n",
       "      <td>...</td>\n",
       "      <td>...</td>\n",
       "    </tr>\n",
       "    <tr>\n",
       "      <th>747</th>\n",
       "      <td>55.780588</td>\n",
       "      <td>37.667348</td>\n",
       "    </tr>\n",
       "    <tr>\n",
       "      <th>748</th>\n",
       "      <td>56.852933</td>\n",
       "      <td>35.907664</td>\n",
       "    </tr>\n",
       "    <tr>\n",
       "      <th>749</th>\n",
       "      <td>56.315701</td>\n",
       "      <td>43.992252</td>\n",
       "    </tr>\n",
       "    <tr>\n",
       "      <th>750</th>\n",
       "      <td>57.786957</td>\n",
       "      <td>40.920807</td>\n",
       "    </tr>\n",
       "    <tr>\n",
       "      <th>751</th>\n",
       "      <td>57.670414</td>\n",
       "      <td>39.837643</td>\n",
       "    </tr>\n",
       "  </tbody>\n",
       "</table>\n",
       "<p>752 rows × 2 columns</p>\n",
       "</div>"
      ],
      "text/plain": [
       "      latitude  longitude\n",
       "0    50.632401  36.571400\n",
       "1    53.378700  58.981602\n",
       "2    55.790255  37.679944\n",
       "3    55.756184  37.615438\n",
       "4    55.770393  37.620663\n",
       "..         ...        ...\n",
       "747  55.780588  37.667348\n",
       "748  56.852933  35.907664\n",
       "749  56.315701  43.992252\n",
       "750  57.786957  40.920807\n",
       "751  57.670414  39.837643\n",
       "\n",
       "[752 rows x 2 columns]"
      ]
     },
     "execution_count": 27,
     "metadata": {},
     "output_type": "execute_result"
    }
   ],
   "source": [
    "bk_data"
   ]
  },
  {
   "cell_type": "code",
   "execution_count": 31,
   "metadata": {},
   "outputs": [],
   "source": [
    "# Create shapely Points from lat/long and confirming for the geodataframe that we're using lat/long\n",
    "points_bk = bk_data.apply(lambda row: Point(row.longitude, row.latitude), axis=1)\n",
    "points_bk.crs = {'init': 'epsg:4326'}"
   ]
  },
  {
   "cell_type": "code",
   "execution_count": 49,
   "metadata": {},
   "outputs": [],
   "source": [
    "points_kfc = kfc_data.apply(lambda row: Point(row.longitude, row.latitude), axis=1)\n",
    "points_kfc.crs = {'init': 'epsg:4326'}"
   ]
  },
  {
   "cell_type": "code",
   "execution_count": 50,
   "metadata": {},
   "outputs": [
    {
     "data": {
      "text/plain": [
       "752"
      ]
     },
     "execution_count": 50,
     "metadata": {},
     "output_type": "execute_result"
    }
   ],
   "source": [
    "len(points_bk)"
   ]
  },
  {
   "cell_type": "code",
   "execution_count": 51,
   "metadata": {},
   "outputs": [
    {
     "data": {
      "text/plain": [
       "192"
      ]
     },
     "execution_count": 51,
     "metadata": {},
     "output_type": "execute_result"
    }
   ],
   "source": [
    "len(points_kfc)"
   ]
  },
  {
   "cell_type": "code",
   "execution_count": 58,
   "metadata": {},
   "outputs": [],
   "source": [
    "distance = 0.2 # Radius 2 km in epsg:4326\n",
    "count_of_kfc_per_bk = [] # Stores count of KFC for each BK in range 2 km\n",
    "for point_bk in points_bk: # For current BK\n",
    "    count = 0 # Count of KFC competitors for current BK in range 2 km\n",
    "    for point_kfc in points_kfc: # For current KFC \n",
    "        circle_buffer = point_bk.buffer(distance)  # Create a circle around current BK\n",
    "        if point_kfc.within(circle_buffer): # And if current KFC within range\n",
    "            count += 1 # +1 competitor KFC for BK\n",
    "    count_of_kfc_per_bk.append(count)"
   ]
  },
  {
   "cell_type": "code",
   "execution_count": 59,
   "metadata": {},
   "outputs": [
    {
     "data": {
      "text/plain": [
       "752"
      ]
     },
     "execution_count": 59,
     "metadata": {},
     "output_type": "execute_result"
    }
   ],
   "source": [
    "len(count_of_kfc_per_bk)"
   ]
  },
  {
   "cell_type": "code",
   "execution_count": 77,
   "metadata": {},
   "outputs": [
    {
     "data": {
      "text/html": [
       "<div>\n",
       "<style scoped>\n",
       "    .dataframe tbody tr th:only-of-type {\n",
       "        vertical-align: middle;\n",
       "    }\n",
       "\n",
       "    .dataframe tbody tr th {\n",
       "        vertical-align: top;\n",
       "    }\n",
       "\n",
       "    .dataframe thead th {\n",
       "        text-align: right;\n",
       "    }\n",
       "</style>\n",
       "<table border=\"1\" class=\"dataframe\">\n",
       "  <thead>\n",
       "    <tr style=\"text-align: right;\">\n",
       "      <th></th>\n",
       "      <th>longitude</th>\n",
       "      <th>latitude</th>\n",
       "      <th>KFCs around 2 kms</th>\n",
       "    </tr>\n",
       "  </thead>\n",
       "  <tbody>\n",
       "    <tr>\n",
       "      <th>0</th>\n",
       "      <td>36.571400</td>\n",
       "      <td>50.632401</td>\n",
       "      <td>1</td>\n",
       "    </tr>\n",
       "    <tr>\n",
       "      <th>1</th>\n",
       "      <td>58.981602</td>\n",
       "      <td>53.378700</td>\n",
       "      <td>1</td>\n",
       "    </tr>\n",
       "    <tr>\n",
       "      <th>2</th>\n",
       "      <td>37.679944</td>\n",
       "      <td>55.790255</td>\n",
       "      <td>2</td>\n",
       "    </tr>\n",
       "    <tr>\n",
       "      <th>3</th>\n",
       "      <td>37.615438</td>\n",
       "      <td>55.756184</td>\n",
       "      <td>2</td>\n",
       "    </tr>\n",
       "    <tr>\n",
       "      <th>4</th>\n",
       "      <td>37.620663</td>\n",
       "      <td>55.770393</td>\n",
       "      <td>2</td>\n",
       "    </tr>\n",
       "    <tr>\n",
       "      <th>...</th>\n",
       "      <td>...</td>\n",
       "      <td>...</td>\n",
       "      <td>...</td>\n",
       "    </tr>\n",
       "    <tr>\n",
       "      <th>747</th>\n",
       "      <td>37.667348</td>\n",
       "      <td>55.780588</td>\n",
       "      <td>2</td>\n",
       "    </tr>\n",
       "    <tr>\n",
       "      <th>748</th>\n",
       "      <td>35.907664</td>\n",
       "      <td>56.852933</td>\n",
       "      <td>1</td>\n",
       "    </tr>\n",
       "    <tr>\n",
       "      <th>749</th>\n",
       "      <td>43.992252</td>\n",
       "      <td>56.315701</td>\n",
       "      <td>1</td>\n",
       "    </tr>\n",
       "    <tr>\n",
       "      <th>750</th>\n",
       "      <td>40.920807</td>\n",
       "      <td>57.786957</td>\n",
       "      <td>1</td>\n",
       "    </tr>\n",
       "    <tr>\n",
       "      <th>751</th>\n",
       "      <td>39.837643</td>\n",
       "      <td>57.670414</td>\n",
       "      <td>1</td>\n",
       "    </tr>\n",
       "  </tbody>\n",
       "</table>\n",
       "<p>752 rows × 3 columns</p>\n",
       "</div>"
      ],
      "text/plain": [
       "     longitude   latitude  KFCs around 2 kms\n",
       "0    36.571400  50.632401                  1\n",
       "1    58.981602  53.378700                  1\n",
       "2    37.679944  55.790255                  2\n",
       "3    37.615438  55.756184                  2\n",
       "4    37.620663  55.770393                  2\n",
       "..         ...        ...                ...\n",
       "747  37.667348  55.780588                  2\n",
       "748  35.907664  56.852933                  1\n",
       "749  43.992252  56.315701                  1\n",
       "750  40.920807  57.786957                  1\n",
       "751  39.837643  57.670414                  1\n",
       "\n",
       "[752 rows x 3 columns]"
      ]
     },
     "execution_count": 77,
     "metadata": {},
     "output_type": "execute_result"
    }
   ],
   "source": [
    "bk_concurents = pd.DataFrame({'longitude': bk_data.longitude, 'latitude': bk_data.latitude, 'KFCs around 2 kms': count_of_kfc_per_BK})\n",
    "bk_concurents"
   ]
  },
  {
   "cell_type": "code",
   "execution_count": 79,
   "metadata": {},
   "outputs": [
    {
     "data": {
      "text/html": [
       "<div>\n",
       "<style scoped>\n",
       "    .dataframe tbody tr th:only-of-type {\n",
       "        vertical-align: middle;\n",
       "    }\n",
       "\n",
       "    .dataframe tbody tr th {\n",
       "        vertical-align: top;\n",
       "    }\n",
       "\n",
       "    .dataframe thead th {\n",
       "        text-align: right;\n",
       "    }\n",
       "</style>\n",
       "<table border=\"1\" class=\"dataframe\">\n",
       "  <thead>\n",
       "    <tr style=\"text-align: right;\">\n",
       "      <th></th>\n",
       "      <th>longitude</th>\n",
       "      <th>latitude</th>\n",
       "      <th>KFCs around 2 kms</th>\n",
       "      <th>geometry</th>\n",
       "    </tr>\n",
       "  </thead>\n",
       "  <tbody>\n",
       "    <tr>\n",
       "      <th>0</th>\n",
       "      <td>36.571400</td>\n",
       "      <td>50.632401</td>\n",
       "      <td>1</td>\n",
       "      <td>POINT (36.57140 50.63240)</td>\n",
       "    </tr>\n",
       "    <tr>\n",
       "      <th>1</th>\n",
       "      <td>58.981602</td>\n",
       "      <td>53.378700</td>\n",
       "      <td>1</td>\n",
       "      <td>POINT (58.98160 53.37870)</td>\n",
       "    </tr>\n",
       "    <tr>\n",
       "      <th>2</th>\n",
       "      <td>37.679944</td>\n",
       "      <td>55.790255</td>\n",
       "      <td>2</td>\n",
       "      <td>POINT (37.67994 55.79026)</td>\n",
       "    </tr>\n",
       "    <tr>\n",
       "      <th>3</th>\n",
       "      <td>37.615438</td>\n",
       "      <td>55.756184</td>\n",
       "      <td>2</td>\n",
       "      <td>POINT (37.61544 55.75618)</td>\n",
       "    </tr>\n",
       "    <tr>\n",
       "      <th>4</th>\n",
       "      <td>37.620663</td>\n",
       "      <td>55.770393</td>\n",
       "      <td>2</td>\n",
       "      <td>POINT (37.62066 55.77039)</td>\n",
       "    </tr>\n",
       "    <tr>\n",
       "      <th>...</th>\n",
       "      <td>...</td>\n",
       "      <td>...</td>\n",
       "      <td>...</td>\n",
       "      <td>...</td>\n",
       "    </tr>\n",
       "    <tr>\n",
       "      <th>747</th>\n",
       "      <td>37.667348</td>\n",
       "      <td>55.780588</td>\n",
       "      <td>2</td>\n",
       "      <td>POINT (37.66735 55.78059)</td>\n",
       "    </tr>\n",
       "    <tr>\n",
       "      <th>748</th>\n",
       "      <td>35.907664</td>\n",
       "      <td>56.852933</td>\n",
       "      <td>1</td>\n",
       "      <td>POINT (35.90766 56.85293)</td>\n",
       "    </tr>\n",
       "    <tr>\n",
       "      <th>749</th>\n",
       "      <td>43.992252</td>\n",
       "      <td>56.315701</td>\n",
       "      <td>1</td>\n",
       "      <td>POINT (43.99225 56.31570)</td>\n",
       "    </tr>\n",
       "    <tr>\n",
       "      <th>750</th>\n",
       "      <td>40.920807</td>\n",
       "      <td>57.786957</td>\n",
       "      <td>1</td>\n",
       "      <td>POINT (40.92081 57.78696)</td>\n",
       "    </tr>\n",
       "    <tr>\n",
       "      <th>751</th>\n",
       "      <td>39.837643</td>\n",
       "      <td>57.670414</td>\n",
       "      <td>1</td>\n",
       "      <td>POINT (39.83764 57.67041)</td>\n",
       "    </tr>\n",
       "  </tbody>\n",
       "</table>\n",
       "<p>752 rows × 4 columns</p>\n",
       "</div>"
      ],
      "text/plain": [
       "     longitude   latitude  KFCs around 2 kms                   geometry\n",
       "0    36.571400  50.632401                  1  POINT (36.57140 50.63240)\n",
       "1    58.981602  53.378700                  1  POINT (58.98160 53.37870)\n",
       "2    37.679944  55.790255                  2  POINT (37.67994 55.79026)\n",
       "3    37.615438  55.756184                  2  POINT (37.61544 55.75618)\n",
       "4    37.620663  55.770393                  2  POINT (37.62066 55.77039)\n",
       "..         ...        ...                ...                        ...\n",
       "747  37.667348  55.780588                  2  POINT (37.66735 55.78059)\n",
       "748  35.907664  56.852933                  1  POINT (35.90766 56.85293)\n",
       "749  43.992252  56.315701                  1  POINT (43.99225 56.31570)\n",
       "750  40.920807  57.786957                  1  POINT (40.92081 57.78696)\n",
       "751  39.837643  57.670414                  1  POINT (39.83764 57.67041)\n",
       "\n",
       "[752 rows x 4 columns]"
      ]
     },
     "execution_count": 79,
     "metadata": {},
     "output_type": "execute_result"
    }
   ],
   "source": [
    "gdf = gpd.GeoDataFrame(bk_concurents, geometry=points_bk)\n",
    "gdf"
   ]
  },
  {
   "cell_type": "code",
   "execution_count": 81,
   "metadata": {},
   "outputs": [],
   "source": [
    "world = gpd.read_file(gpd.datasets.get_path('naturalearth_lowres'))"
   ]
  },
  {
   "cell_type": "code",
   "execution_count": 94,
   "metadata": {},
   "outputs": [
    {
     "data": {
      "image/png": "[encoded data removed]",
      "text/plain": [
       "<Figure size 1440x1440 with 1 Axes>"
      ]
     },
     "metadata": {
      "needs_background": "light"
     },
     "output_type": "display_data"
    }
   ],
   "source": [
    "ax = world[world.continent == 'Europe'].plot(\n",
    "    color='white', edgecolor='black', figsize=(20,20))\n",
    "\n",
    "gdf.plot(ax=ax, color='red')\n",
    "\n",
    "plt.show()"
   ]
  }
 ],
 "metadata": {
  "kernelspec": {
   "display_name": "Python 3",
   "language": "python",
   "name": "python3"
  },
  "language_info": {
   "codemirror_mode": {
    "name": "ipython",
    "version": 3
   },
   "file_extension": ".py",
   "mimetype": "text/x-python",
   "name": "python",
   "nbconvert_exporter": "python",
   "pygments_lexer": "ipython3",
   "version": "3.8.3"
  }
 },
 "nbformat": 4,
 "nbformat_minor": 4
}
